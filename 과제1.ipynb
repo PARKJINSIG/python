{
  "nbformat": 4,
  "nbformat_minor": 0,
  "metadata": {
    "colab": {
      "provenance": [],
      "authorship_tag": "ABX9TyPe6aFmZemDxphDBgb+a74J",
      "include_colab_link": true
    },
    "kernelspec": {
      "name": "python3",
      "display_name": "Python 3"
    },
    "language_info": {
      "name": "python"
    }
  },
  "cells": [
    {
      "cell_type": "markdown",
      "metadata": {
        "id": "view-in-github",
        "colab_type": "text"
      },
      "source": [
        "<a href=\"https://colab.research.google.com/github/PARKJINSIG/python/blob/main/%EA%B3%BC%EC%A0%9C1.ipynb\" target=\"_parent\"><img src=\"https://colab.research.google.com/assets/colab-badge.svg\" alt=\"Open In Colab\"/></a>"
      ]
    },
    {
      "cell_type": "code",
      "source": [
        " print(\"## 택배를 보내기 위한 정보를 입력하세요. ##\")\n",
        " reciever_name = input(\"받는사람 : \")\n",
        " address = input(\"주소를 보내시오 : \")\n",
        " weight = input(\"무게를 입력하십시오 : \")\n",
        " weight = int(weight)\n",
        " print(\"받는 사람 ==> 김난쟁\")\n",
        " print(\"주소 ==> 서울 영등포구 여의도동 88\")\n",
        " print(\"배송비 ==>\", weight * 5,\"원\")"
      ],
      "metadata": {
        "colab": {
          "base_uri": "https://localhost:8080/"
        },
        "id": "5Gz_OFP1VlrZ",
        "outputId": "c52780c7-b17a-4b22-b2cf-44485819614f"
      },
      "execution_count": 4,
      "outputs": [
        {
          "output_type": "stream",
          "name": "stdout",
          "text": [
            "## 택배를 보내기 위한 정보를 입력하세요. ##\n",
            "받는사람 : 김난쟁\n",
            "주소를 보내시오 : 서울영등포구 여의도동 88\n",
            "무게를 입력하십시오 : 721\n",
            "받는 사람 ==> 김난쟁\n",
            "주소 ==> 서울 영등포구 여의도동 88\n",
            "배송비 ==> 3605 원\n"
          ]
        }
      ]
    }
  ]
}