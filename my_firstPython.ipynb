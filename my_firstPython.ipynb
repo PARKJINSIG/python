{
  "nbformat": 4,
  "nbformat_minor": 0,
  "metadata": {
    "colab": {
      "provenance": [],
      "authorship_tag": "ABX9TyOdptpCUvfk3e48kQx9arEg",
      "include_colab_link": true
    },
    "kernelspec": {
      "name": "python3",
      "display_name": "Python 3"
    },
    "language_info": {
      "name": "python"
    }
  },
  "cells": [
    {
      "cell_type": "markdown",
      "metadata": {
        "id": "view-in-github",
        "colab_type": "text"
      },
      "source": [
        "<a href=\"https://colab.research.google.com/github/PARKJINSIG/python/blob/main/my_firstPython.ipynb\" target=\"_parent\"><img src=\"https://colab.research.google.com/assets/colab-badge.svg\" alt=\"Open In Colab\"/></a>"
      ]
    },
    {
      "cell_type": "markdown",
      "source": [
        "2023학년도 응용프로그래밍 화면구현\n",
        "파이썬 기초"
      ],
      "metadata": {
        "id": "sovh5TdpieOH"
      }
    },
    {
      "cell_type": "code",
      "execution_count": null,
      "metadata": {
        "id": "OSvOzkBTiJ6N"
      },
      "outputs": [],
      "source": [
        "print(\"안산공업고등학교\")\n",
        "print(\"컴퓨터과 3학년 1반 11번 박진식\")\n",
        "print(\"파이썬 기초 수업\")\n"
      ]
    }
  ]
}